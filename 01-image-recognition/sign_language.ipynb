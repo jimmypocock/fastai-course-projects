{
  "nbformat": 4,
  "nbformat_minor": 0,
  "metadata": {
    "colab": {
      "provenance": [],
      "authorship_tag": "ABX9TyPKNIaBCgjODF+chsmQFgmU",
      "include_colab_link": true
    },
    "kernelspec": {
      "name": "python3",
      "display_name": "Python 3"
    },
    "language_info": {
      "name": "python"
    }
  },
  "cells": [
    {
      "cell_type": "markdown",
      "metadata": {
        "id": "view-in-github",
        "colab_type": "text"
      },
      "source": [
        "<a href=\"https://colab.research.google.com/github/jimmypocock/fastai-course-projects/blob/main/01-image-recognition/sign_language.ipynb\" target=\"_parent\"><img src=\"https://colab.research.google.com/assets/colab-badge.svg\" alt=\"Open In Colab\"/></a>"
      ]
    },
    {
      "cell_type": "markdown",
      "source": [
        "# 🤟 Sign Language Recognition with FastAI\n",
        "\n",
        "**Project:** American Sign Language (ASL) Letter Classification  \n",
        "**Framework:** FastAI v2.7+ / PyTorch  \n",
        "**Author:** [Your Name]  \n",
        "**Date:** October 2024  \n",
        "\n",
        "---\n",
        "\n",
        "## 📋 Project Overview\n",
        "\n",
        "Building a state-of-the-art sign language recognition system using FastAI's high-level APIs. This project demonstrates:\n",
        "- FastAI's DataBlock API for data preparation\n",
        "- Transfer learning with vision_learner\n",
        "- Fine-tuning pretrained models\n",
        "- Achieving >95% accuracy with minimal code\n",
        "\n",
        "**Dataset:** Sign Language MNIST (24 ASL letters, excluding J & Z)\n",
        "**Goal:** Build a classifier that can recognize ASL letters in real-time\n",
        "\n",
        "---"
      ],
      "metadata": {
        "id": "tdUzzL9KuIXy"
      }
    },
    {
      "cell_type": "code",
      "execution_count": null,
      "metadata": {
        "id": "EoKhGWfGnycg"
      },
      "outputs": [],
      "source": [
        "# Install and setup\n",
        "!pip install -Uqq fastai\n",
        "from fastai.vision.all import *"
      ]
    }
  ]
}